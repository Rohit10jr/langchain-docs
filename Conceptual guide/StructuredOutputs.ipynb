{
 "cells": [
  {
   "cell_type": "markdown",
   "id": "f0a75d95",
   "metadata": {},
   "source": [
    "**Structured outputs**\n",
    "\n",
    "*Overview*\n",
    "\n",
    "For many applications, such as chatbots, models need to respond to users directly in natural language. However, there are scenarios where we need models to output in a structured format. For example, we might want to store the model output in a database and ensure that the output conforms to the database schema. This need motivates the concept of structured output, where models can be instructed to respond with a particular output structure."
   ]
  },
  {
   "cell_type": "markdown",
   "id": "2c60a5b8",
   "metadata": {},
   "source": [
    "*Key concepts*\n",
    "1. Schema definition: The output structure is represented as a schema, which can be defined in several ways. \n",
    "2. Returning structured output: The model is given this schema, and is instructed to return output that conforms to it."
   ]
  },
  {
   "cell_type": "code",
   "execution_count": null,
   "id": "d11b1b8a",
   "metadata": {},
   "outputs": [],
   "source": [
    "\n",
    "from langchain_core.language_models import GenericFakeChatModel\n",
    "\n",
    "model = GenericFakeChatModel(messages=iter([\"hello matey\"]))\n",
    "user_input = \"hello my name is rohit\"\n",
    "\n",
    "# Define schema\n",
    "schema = {\"foo\": \"bar\"}\n",
    "# Bind schema to model\n",
    "model_with_structure = model.with_structured_output(schema)\n",
    "# Invoke the model to produce structured output that matches the schema\n",
    "structured_output = model_with_structure.invoke(user_input)"
   ]
  },
  {
   "cell_type": "markdown",
   "id": "7fa2041c",
   "metadata": {},
   "source": [
    "*Schema definition*\n",
    "\n",
    "The central concept is that the output structure of model responses needs to be represented in some way. While types of objects you can use depend on the model you're working with, there are common types of objects that are typically allowed or recommended for structured output in Python.\n"
   ]
  },
  {
   "cell_type": "markdown",
   "id": "9c877203",
   "metadata": {},
   "source": [
    "\n",
    "JSON-like structure\n",
    "\n",
    "The simplest and most common format for structured output is a JSON-like structure, which in Python can be represented as a dictionary (dict) or list (list). JSON objects (or dicts in Python) are often used directly when the tool requires raw, flexible, and minimal-overhead structured data."
   ]
  },
  {
   "cell_type": "code",
   "execution_count": 5,
   "id": "0d96d052",
   "metadata": {},
   "outputs": [
    {
     "data": {
      "text/plain": [
       "{'answer': \"The answer to the user's question\",\n",
       " 'followup_question': 'A followup question the user could ask'}"
      ]
     },
     "execution_count": 5,
     "metadata": {},
     "output_type": "execute_result"
    }
   ],
   "source": [
    "{\n",
    "  \"answer\": \"The answer to the user's question\",\n",
    "  \"followup_question\": \"A followup question the user could ask\"\n",
    "}"
   ]
  },
  {
   "cell_type": "markdown",
   "id": "c6e2b269",
   "metadata": {},
   "source": [
    "*Pydantic Schema*\n",
    "\n",
    "As a second example, Pydantic is particularly useful for defining structured output schemas because it offers type hints and validation. Here's an example of a Pydantic schema:"
   ]
  },
  {
   "cell_type": "code",
   "execution_count": 6,
   "id": "254fac5d",
   "metadata": {},
   "outputs": [],
   "source": [
    "from pydantic import BaseModel, Field\n",
    "\n",
    "class ResponseFormatter(BaseModel):\n",
    "    \"\"\"Always use this tool to structure your response to the user.\"\"\"\n",
    "    answer: str = Field(description=\"The answer to the user's question\")\n",
    "    followup_question: str = Field(description=\"A followup question the user could ask\")"
   ]
  },
  {
   "cell_type": "markdown",
   "id": "af546b8a",
   "metadata": {},
   "source": [
    "*Returning structured output*\n",
    "\n",
    "With a schema defined, we need a way to instruct the model to use it. While one approach is to include this schema in the prompt and ask nicely for the model to use it, this is not recommended. Several more powerful methods that utilizes native features in the model provider's API are available."
   ]
  },
  {
   "cell_type": "markdown",
   "id": "e61e5778",
   "metadata": {},
   "source": [
    "*Using tool calling*\n",
    "\n",
    "Many model providers support tool calling, a concept discussed in more detail in our tool calling guide. In short, tool calling involves binding a tool to a model and, when appropriate, the model can decide to call this tool and ensure its response conforms to the tool's schema. With this in mind, the central concept is straightforward: simply bind our schema to a model as a tool! Here is an example using the ResponseFormatter schema defined above:"
   ]
  },
  {
   "cell_type": "code",
   "execution_count": null,
   "id": "ff7b22d4",
   "metadata": {},
   "outputs": [],
   "source": [
    "from langchain_google_genai import ChatGoogleGenerativeAI\n",
    "\n",
    "model = ChatGoogleGenerativeAI(model=\"gemini-2.0-flash\")\n",
    "\n",
    "model_with_tools = model.bind_tools([ResponseFormatter])\n",
    "\n",
    "ai_msg = model_with_tools.invoke(\"what is the powerhouse of the cell?\")\n",
    "# AIMessage(content='', additional_kwargs={'function_call': {'name': 'ResponseFormatter', 'arguments': '{\"answer\": \"The powerhouse of the cell is the mitochondria.\", \"followup_question\": \"What is the function of the mitochondria?\"}'}}, response_metadata={'prompt_feedback': {'block_reason': 0, 'safety_ratings': []}, 'finish_reason': 'STOP', 'safety_ratings': []}, id='run-6272a78f-c181-4b5b-8325-3c79743daa21-0', tool_calls=[{'name': 'ResponseFormatter', 'args': {'answer': 'The powerhouse of the cell is the mitochondria.', 'followup_question': 'What is the function of the mitochondria?'}, 'id': '85e3f54d-1f29-48fa-8615-ab98c24c3c63', 'type': 'tool_call'}], usage_metadata={'input_tokens': 47, 'output_tokens': 24, 'total_tokens': 71, 'input_token_details': {'cache_read': 0}})"
   ]
  },
  {
   "cell_type": "code",
   "execution_count": 8,
   "id": "fc485c10",
   "metadata": {},
   "outputs": [
    {
     "data": {
      "text/plain": [
       "{'answer': 'The powerhouse of the cell is the mitochondria.',\n",
       " 'followup_question': 'What is the function of the mitochondria?'}"
      ]
     },
     "execution_count": 8,
     "metadata": {},
     "output_type": "execute_result"
    }
   ],
   "source": [
    "# ai_msg.tool_calls\n",
    "ai_msg.tool_calls[0][\"args\"]"
   ]
  },
  {
   "cell_type": "markdown",
   "id": "8e795810",
   "metadata": {},
   "source": [
    "The arguments of the tool call are already extracted as a dictionary. This dictionary can be optionally parsed into a Pydantic object, matching our original ResponseFormatter schema."
   ]
  },
  {
   "cell_type": "code",
   "execution_count": 9,
   "id": "77076089",
   "metadata": {},
   "outputs": [
    {
     "data": {
      "text/plain": [
       "ResponseFormatter(answer='The powerhouse of the cell is the mitochondria.', followup_question='What is the function of the mitochondria?')"
      ]
     },
     "execution_count": 9,
     "metadata": {},
     "output_type": "execute_result"
    }
   ],
   "source": [
    "# Get the tool call arguments\n",
    "ai_msg.tool_calls[0][\"args\"]\n",
    "\n",
    "{'answer': \"The powerhouse of the cell is the mitochondrion. Mitochondria are organelles that generate most of the cell's supply of adenosine triphosphate (ATP), which is used as a source of chemical energy.\",\n",
    " 'followup_question': 'What is the function of ATP in the cell?'}\n",
    "# Parse the dictionary into a pydantic object\n",
    "pydantic_object = ResponseFormatter.model_validate(ai_msg.tool_calls[0][\"args\"])\n",
    "pydantic_object"
   ]
  },
  {
   "cell_type": "markdown",
   "id": "42156605",
   "metadata": {},
   "source": [
    "*JSON mode*\n",
    "\n",
    "In addition to tool calling, some model providers support a feature called JSON mode. This supports JSON schema definition as input and enforces the model to produce a conforming JSON output. "
   ]
  },
  {
   "cell_type": "code",
   "execution_count": null,
   "id": "063e05e5",
   "metadata": {},
   "outputs": [],
   "source": [
    "from langchain_openai import ChatOpenAI\n",
    "\n",
    "# **json mode is not supported in google gemini models **\n",
    "\n",
    "model = ChatOpenAI(model=\"gpt-4o\").with_structured_output(method=\"json_mode\")\n",
    "ai_msg = model.invoke(\"Return a JSON object with key 'random_ints' and a value of 10 random ints in [0-99]\")\n",
    "ai_msg\n",
    "{'random_ints': [45, 67, 12, 34, 89, 23, 78, 56, 90, 11]}"
   ]
  },
  {
   "cell_type": "markdown",
   "id": "0a7d31ef",
   "metadata": {},
   "source": [
    "**Structured output method**\n",
    "\n",
    "There are a few challenges when producing structured output with the above methods:\n",
    "\n",
    "1. When tool calling is used, tool call arguments needs to be parsed from a dictionary back to the original schema.\n",
    "2. In addition, the model needs to be instructed to always use the tool when we want to enforce structured output, which is a provider specific setting.\n",
    "3. When JSON mode is used, the output needs to be parsed into a JSON object.\n",
    "\n",
    "LangChain provides a helper function (with_structured_output()) to streamline the process of using tool_Calling and json_mode.\n",
    "This both binds the schema to the model as a tool and parses the output to the specified output schema."
   ]
  },
  {
   "cell_type": "code",
   "execution_count": 10,
   "id": "97b0fc12",
   "metadata": {},
   "outputs": [
    {
     "data": {
      "text/plain": [
       "ResponseFormatter(answer='The powerhouse of the cell is the mitochondria.', followup_question='What is the function of the mitochondria?')"
      ]
     },
     "execution_count": 10,
     "metadata": {},
     "output_type": "execute_result"
    }
   ],
   "source": [
    "from langchain_google_genai import ChatGoogleGenerativeAI\n",
    "\n",
    "model = ChatGoogleGenerativeAI(model=\"gemini-2.0-flash\")\n",
    "\n",
    "\n",
    "# model_with_tools = model.bind_tools([ResponseFormatter])\n",
    "# ai_msg = model_with_tools.invoke(\"what is the powerhouse of the cell?\")\n",
    "# ai_msg.tool_calls\n",
    "\n",
    "\n",
    "# Bind the schema to the model\n",
    "model_with_structure = model.with_structured_output(ResponseFormatter)\n",
    "# Invoke the model\n",
    "structured_output = model_with_structure.invoke(\"What is the powerhouse of the cell?\")\n",
    "# Get back the pydantic object\n",
    "structured_output\n",
    "# ResponseFormatter(answer=\"The powerhouse of the cell is the mitochondrion. Mitochondria are organelles that generate most of the cell's supply of adenosine triphosphate (ATP), which is used as a source of chemical energy.\", followup_question='What is the function of ATP in the cell?')"
   ]
  }
 ],
 "metadata": {
  "kernelspec": {
   "display_name": "venv",
   "language": "python",
   "name": "python3"
  },
  "language_info": {
   "codemirror_mode": {
    "name": "ipython",
    "version": 3
   },
   "file_extension": ".py",
   "mimetype": "text/x-python",
   "name": "python",
   "nbconvert_exporter": "python",
   "pygments_lexer": "ipython3",
   "version": "3.12.7"
  }
 },
 "nbformat": 4,
 "nbformat_minor": 5
}

{
 "cells": [
  {
   "cell_type": "markdown",
   "id": "69d831dd",
   "metadata": {},
   "source": [
    "**Chat Models**"
   ]
  },
  {
   "cell_type": "markdown",
   "id": "5950fc54",
   "metadata": {},
   "source": [
    "*Key methods*\n",
    "\n",
    "The key methods of a chat model are:\n",
    "\n",
    "1. invoke: The primary method for interacting with a chat model. It takes a list of messages as input and returns a list of messages as output.\n",
    "2. stream: A method that allows you to stream the output of a chat model as it is generated.\n",
    "3. batch: A method that allows you to batch multiple requests to a chat model together for more efficient processing.\n",
    "4. bind_tools: A method that allows you to bind a tool to a chat model for use in the model's execution context.\n",
    "5. with_structured_output: A wrapper around the invoke method for models that natively support structured output.\n",
    "Other important methods can be found in the BaseChatModel API Reference."
   ]
  },
  {
   "cell_type": "markdown",
   "id": "c14072ae",
   "metadata": {},
   "source": [
    "LangChain supports two message formats to interact with chat models:\n",
    "\n",
    "* LangChain Message Format: LangChain's own message format, which is used by default and is used internally by LangChain.\n",
    "* OpenAI's Message Format: OpenAI's message format."
   ]
  },
  {
   "cell_type": "markdown",
   "id": "8ebe5931",
   "metadata": {},
   "source": [
    "*Standard parameters*\n",
    "\n",
    "Many chat models have standardized parameters that can be used to configure the model:"
   ]
  }
 ],
 "metadata": {
  "language_info": {
   "name": "python"
  }
 },
 "nbformat": 4,
 "nbformat_minor": 5
}

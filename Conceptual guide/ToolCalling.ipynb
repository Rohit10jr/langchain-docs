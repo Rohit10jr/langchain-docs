{
 "cells": [
  {
   "cell_type": "markdown",
   "id": "482e2975",
   "metadata": {},
   "source": [
    "**Tool calling**"
   ]
  },
  {
   "cell_type": "markdown",
   "id": "4dc258ed",
   "metadata": {},
   "source": [
    "*Overview*\n",
    "\n",
    "Many AI applications interact directly with humans. In these cases, it is appropriate for models to respond in natural language. But what about cases where we want a model to also interact directly with systems, such as databases or an API? These systems often have a particular input schema; for example, APIs frequently have a required payload structure. This need motivates the concept of tool calling. You can use tool calling to request model responses that match a particular schema."
   ]
  },
  {
   "cell_type": "markdown",
   "id": "38d4b3c6",
   "metadata": {},
   "source": [
    "*Key concepts*\n",
    "\n",
    "1.  Tool Creation: Use the @tool decorator to create a tool. A tool is an association between a function and its schema. \n",
    "2. Tool Binding: The tool needs to be connected to a model that supports tool calling. This gives the model awareness of the tool and the associated input schema required by the tool. \n",
    "3. Tool Calling: When appropriate, the model can decide to call a tool and ensure its response conforms to the tool's input schema. \n",
    "4. Tool Execution: The tool can be executed using the arguments provided by the model."
   ]
  },
  {
   "cell_type": "markdown",
   "id": "d2118735",
   "metadata": {},
   "source": [
    "*Recommended usage*\n",
    "\n",
    "This pseudocode illustrates the recommended workflow for using tool calling. Created tools are passed to .bind_tools() method as a list. This model can be called, as usual. If a tool call is made, model's response will contain the tool call arguments. The tool call arguments can be passed directly to the tool."
   ]
  },
  {
   "cell_type": "code",
   "execution_count": null,
   "id": "bc16144a",
   "metadata": {},
   "outputs": [],
   "source": [
    "from langchain_core.language_models import GenericFakeChatModel\n",
    "\n",
    "model = GenericFakeChatModel(messages=iter([\"hello matey\"]))\n",
    "\n",
    "# Tool creation\n",
    "def my_tool():\n",
    "    return \n",
    "\n",
    "tools = [my_tool]\n",
    "\n",
    "# Tool binding\n",
    "model_with_tools = model.bind_tools(tools)\n",
    "\n",
    "# Tool calling \n",
    "response = model_with_tools.invoke(user_input)"
   ]
  },
  {
   "cell_type": "markdown",
   "id": "c641f405",
   "metadata": {},
   "source": [
    "*Tool creation*\n",
    "\n",
    "The recommended way to create a tool is using the @tool decorator."
   ]
  },
  {
   "cell_type": "code",
   "execution_count": null,
   "id": "4eab2f67",
   "metadata": {},
   "outputs": [],
   "source": [
    "from langchain_core.tools import tool\n",
    "\n",
    "@tool\n",
    "def multiply(a: int, b: int) -> int:\n",
    "    \"\"\"Multiply a and b.\"\"\"\n",
    "    return a * b"
   ]
  },
  {
   "cell_type": "markdown",
   "id": "17c27a21",
   "metadata": {},
   "source": [
    "*Tool binding*\n",
    "\n",
    "The central concept to understand is that LangChain provides a standardized interface for connecting tools to models. The .bind_tools() method can be used to specify which tools are available for a model to call."
   ]
  },
  {
   "cell_type": "code",
   "execution_count": null,
   "id": "4c5f9773",
   "metadata": {},
   "outputs": [],
   "source": [
    "model_with_tools = model.bind_tools(tools_list)"
   ]
  },
  {
   "cell_type": "markdown",
   "id": "5f5e3c3a",
   "metadata": {},
   "source": [
    "let's take a function multiply and bind it as a tool to a model that supports tool calling."
   ]
  },
  {
   "cell_type": "code",
   "execution_count": null,
   "id": "7d4cc48c",
   "metadata": {},
   "outputs": [],
   "source": [
    "def multiply(a: int, b: int) -> int:\n",
    "    \"\"\"Multiply a and b.\n",
    "\n",
    "    Args:\n",
    "        a: first int\n",
    "        b: second int\n",
    "    \"\"\"\n",
    "    return a * b\n",
    "\n",
    "llm_with_tools = tool_calling_model.bind_tools([multiply])"
   ]
  },
  {
   "cell_type": "markdown",
   "id": "d67562c9",
   "metadata": {},
   "source": [
    "*Tool Calling*\n",
    "\n",
    "A key principle of tool calling is that the model decides when to use a tool based on the input's relevance. The model doesn't always need to call a tool. For example, given an unrelated input, the model would not call the tool: "
   ]
  },
  {
   "cell_type": "code",
   "execution_count": null,
   "id": "8b19a553",
   "metadata": {},
   "outputs": [],
   "source": [
    "result = llm_with_tools.invoke(\"Hello world!\")"
   ]
  },
  {
   "cell_type": "markdown",
   "id": "ea61401b",
   "metadata": {},
   "source": [
    "The result would be an AIMessage containing the model's response in natural language (e.g., \"Hello!\"). However, if we pass an input relevant to the tool, the model should choose to call it:"
   ]
  },
  {
   "cell_type": "code",
   "execution_count": null,
   "id": "a12ade49",
   "metadata": {},
   "outputs": [],
   "source": [
    "result = llm_with_tools.invoke(\"What is 2 multiplied by 3?\")"
   ]
  },
  {
   "cell_type": "markdown",
   "id": "64ef508d",
   "metadata": {},
   "source": [
    "As before, the output result will be an AIMessage. But, if the tool was called, result will have a tool_calls attribute. This attribute includes everything needed to execute the tool, including the tool name and input arguments:"
   ]
  },
  {
   "cell_type": "code",
   "execution_count": null,
   "id": "46f2b987",
   "metadata": {},
   "outputs": [],
   "source": [
    "result.tool_calls\n",
    "{'name': 'multiply', 'args': {'a': 2, 'b': 3}, 'id': 'xxx', 'type': 'tool_call'}"
   ]
  },
  {
   "cell_type": "markdown",
   "id": "7dc955fe",
   "metadata": {},
   "source": [
    "***Tool execution***\n",
    "\n",
    "*Tools implement the Runnable interface, which means that they can be invoked (e.g., tool.invoke(args)) directly.*\n",
    "\n",
    "*LangGraph offers pre-built components (e.g., ToolNode) that will often invoke the tool in behalf of the user.*"
   ]
  },
  {
   "cell_type": "markdown",
   "id": "77427989",
   "metadata": {},
   "source": [
    "***Best practices***\n",
    "\n",
    "When designing tools to be used by a model, it is important to keep in mind that:\n",
    "\n",
    "* Models that have explicit tool-calling APIs will be better at tool calling than non-fine-tuned models.\n",
    "* Models will perform better if the tools have well-chosen names and descriptions.\n",
    "* Simple, narrowly scoped tools are easier for models to use than complex tools.\n",
    "* Asking the model to select from a large list of tools poses challenges for the model."
   ]
  }
 ],
 "metadata": {
  "kernelspec": {
   "display_name": "venv",
   "language": "python",
   "name": "python3"
  },
  "language_info": {
   "codemirror_mode": {
    "name": "ipython",
    "version": 3
   },
   "file_extension": ".py",
   "mimetype": "text/x-python",
   "name": "python",
   "nbconvert_exporter": "python",
   "pygments_lexer": "ipython3",
   "version": "3.12.7"
  }
 },
 "nbformat": 4,
 "nbformat_minor": 5
}

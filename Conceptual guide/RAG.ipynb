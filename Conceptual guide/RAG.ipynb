{
 "cells": [
  {
   "cell_type": "markdown",
   "id": "89adef59",
   "metadata": {},
   "source": [
    "# Retrieval augmented generation (RAG)"
   ]
  },
  {
   "cell_type": "markdown",
   "id": "a5ccc04c",
   "metadata": {},
   "source": [
    "Key concepts\n",
    "\n",
    "1. Retrieval system: Retrieve relevant information from a knowledge base.\n",
    "2. Adding external knowledge: Pass retrieved information to a model."
   ]
  },
  {
   "cell_type": "markdown",
   "id": "76b23d72",
   "metadata": {},
   "source": [
    "As an example, here's a simple RAG workflow that passes information from a retriever to a chat model:"
   ]
  },
  {
   "cell_type": "code",
   "execution_count": null,
   "id": "1ddbb8b4",
   "metadata": {},
   "outputs": [],
   "source": [
    "from langchain_google_genai import ChatGoogleGenerativeAI\n",
    "from langchain_core.messages import SystemMessage, HumanMessage\n",
    "\n",
    "# Define a system prompt that tells the model how to use the retrieved context\n",
    "system_prompt = \"\"\"You are an assistant for question-answering tasks. \n",
    "Use the following pieces of retrieved context to answer the question. \n",
    "If you don't know the answer, just say that you don't know. \n",
    "Use three sentences maximum and keep the answer concise.\n",
    "Context: {context}:\"\"\"\n",
    "    \n",
    "# Define a question\n",
    "question = \"\"\"What are the main components of an LLM-powered autonomous agent system?\"\"\"\n",
    "\n",
    "# Retrieve relevant documents\n",
    "docs = retriever.invoke(question)\n",
    "\n",
    "# Combine the documents into a single string\n",
    "docs_text = \"\".join(d.page_content for d in docs)\n",
    "\n",
    "# Populate the system prompt with the retrieved context\n",
    "system_prompt_fmt = system_prompt.format(context=docs_text)\n",
    "\n",
    "# Create a model\n",
    "model = ChatGoogleGenerativeAI(model=\"gemini-2.0-flash\", temperature=0) \n",
    "\n",
    "# Generate a response\n",
    "questions = model.invoke([SystemMessage(content=system_prompt_fmt),\n",
    "                          HumanMessage(content=question)])"
   ]
  }
 ],
 "metadata": {
  "kernelspec": {
   "display_name": "venv",
   "language": "python",
   "name": "python3"
  },
  "language_info": {
   "codemirror_mode": {
    "name": "ipython",
    "version": 3
   },
   "file_extension": ".py",
   "mimetype": "text/x-python",
   "name": "python",
   "nbconvert_exporter": "python",
   "pygments_lexer": "ipython3",
   "version": "3.12.7"
  }
 },
 "nbformat": 4,
 "nbformat_minor": 5
}

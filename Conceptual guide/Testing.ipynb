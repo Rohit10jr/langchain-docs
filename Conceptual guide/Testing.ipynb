{
 "cells": [
  {
   "cell_type": "markdown",
   "id": "cbdd6ee6",
   "metadata": {},
   "source": [
    "# Testing\n",
    "\n",
    "Testing is a critical part of the development process that ensures your code works as expected and meets the desired quality standards.\n",
    "\n",
    "In the LangChain ecosystem, we have 2 main types of tests: unit tests and integration tests."
   ]
  },
  {
   "cell_type": "markdown",
   "id": "42bf8109",
   "metadata": {},
   "source": [
    "*Unit Tests*\n",
    "\n",
    "Definition: Unit tests are designed to validate the smallest parts of your code—individual functions or methods—ensuring they work as expected in isolation. They do not rely on external systems or integrations.\n",
    "\n",
    "Example: Testing the convert_langchain_aimessage_to_dict function to confirm it correctly converts an AI message to a dictionary format:"
   ]
  },
  {
   "cell_type": "code",
   "execution_count": 1,
   "id": "26eddbfb",
   "metadata": {},
   "outputs": [],
   "source": [
    "from langchain_core.messages import AIMessage, ToolCall, convert_to_openai_messages\n",
    "\n",
    "def test_convert_to_openai_messages():\n",
    "    ai_message = AIMessage(\n",
    "        content=\"Let me call that tool for you!\",\n",
    "        tool_calls=[\n",
    "            ToolCall(name='parrot_multiply_tool', id='1', args={'a': 2, 'b': 3}),\n",
    "        ]\n",
    "    )\n",
    "    \n",
    "    result = convert_to_openai_messages(ai_message)\n",
    "    \n",
    "    expected = {\n",
    "        \"role\": \"assistant\",\n",
    "        \"tool_calls\": [\n",
    "            {\n",
    "                \"type\": \"function\",\n",
    "                \"id\": \"1\",\n",
    "                \"function\": {\n",
    "                    \"name\": \"parrot_multiply_tool\",\n",
    "                    \"arguments\": '{\"a\": 2, \"b\": 3}',\n",
    "                },\n",
    "            }\n",
    "        ],\n",
    "        \"content\": \"Let me call that tool for you!\",\n",
    "    }\n",
    "    assert result == expected  # Ensure conversion matches expected output"
   ]
  },
  {
   "cell_type": "markdown",
   "id": "68f1a31d",
   "metadata": {},
   "source": [
    "*Integration Tests*\n",
    "Definition: Integration tests validate that multiple components or systems work together as expected. For tools or integrations relying on external services, these tests often ensure end-to-end functionality.\n",
    "\n",
    "Example: Testing ParrotMultiplyTool with access to an API service that multiplies two numbers and adds 80:"
   ]
  },
  {
   "cell_type": "code",
   "execution_count": null,
   "id": "548358c7",
   "metadata": {},
   "outputs": [],
   "source": [
    "def test_integration_with_service():\n",
    "    tool = ParrotMultiplyTool()\n",
    "    result = tool.invoke({\"a\": 2, \"b\": 3})\n",
    "    assert result == 86"
   ]
  },
  {
   "cell_type": "markdown",
   "id": "4e7a4afc",
   "metadata": {},
   "source": [
    "*Standard Tests*\n",
    "\n",
    "Definition: Standard tests are pre-defined tests provided by LangChain to ensure consistency and reliability across all tools and integrations. They include both unit and integration test templates tailored for LangChain components.\n",
    "\n",
    "Example: Subclassing LangChain's ToolsUnitTests or ToolsIntegrationTests to automatically run standard tests:"
   ]
  },
  {
   "cell_type": "code",
   "execution_count": null,
   "id": "b409ff50",
   "metadata": {},
   "outputs": [],
   "source": [
    "from langchain_tests.unit_tests import ToolsUnitTests\n",
    "\n",
    "class TestParrotMultiplyToolUnit(ToolsUnitTests):\n",
    "    @property\n",
    "    def tool_constructor(self):\n",
    "        return ParrotMultiplyTool\n",
    "\n",
    "    def tool_invoke_params_example(self):\n",
    "        return {\"a\": 2, \"b\": 3}"
   ]
  }
 ],
 "metadata": {
  "kernelspec": {
   "display_name": "venv",
   "language": "python",
   "name": "python3"
  },
  "language_info": {
   "codemirror_mode": {
    "name": "ipython",
    "version": 3
   },
   "file_extension": ".py",
   "mimetype": "text/x-python",
   "name": "python",
   "nbconvert_exporter": "python",
   "pygments_lexer": "ipython3",
   "version": "3.12.7"
  }
 },
 "nbformat": 4,
 "nbformat_minor": 5
}

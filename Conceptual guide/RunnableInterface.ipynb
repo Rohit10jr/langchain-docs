{
 "cells": [
  {
   "cell_type": "markdown",
   "id": "f3641919",
   "metadata": {},
   "source": [
    "# Runnable interface"
   ]
  },
  {
   "cell_type": "markdown",
   "id": "497598f9",
   "metadata": {},
   "source": [
    "*Overview of runnable interface*\n",
    "\n",
    "The Runnable way defines a standard interface that allows a Runnable component to be:\n",
    "\n",
    "1. Invoked: A single input is transformed into an output.\n",
    "2. Batched: Multiple inputs are efficiently transformed into outputs.\n",
    "3. Streamed: Outputs are streamed as they are produced.\n",
    "4. Inspected: Schematic information about Runnable's input, output, and configuration can be accessed.\n",
    "5. Composed: Multiple Runnables can be composed to work together using the LangChain Expression Language (LCEL) to create complex pipelines."
   ]
  },
  {
   "cell_type": "markdown",
   "id": "2b1d0fde",
   "metadata": {},
   "source": [
    "There are two main patterns by which new Runnables are created:\n",
    "\n",
    "1. Declaratively using LangChain Expression Language (LCEL):\n",
    "\n",
    "```python\n",
    "chain = prompt | chat_model | output_parser\n",
    "```\n",
    "\n",
    "2. Using a custom Runnable (e.g., RunnableLambda) or using the @tool decorator:\n",
    "\n",
    "```python\n",
    "def foo(input):\n",
    "    # Note that .invoke() is used directly here\n",
    "    return bar_runnable.invoke(input)\n",
    "\n",
    "foo_runnable = RunnableLambda(foo)\n",
    "```\n"
   ]
  }
 ],
 "metadata": {
  "language_info": {
   "name": "python"
  }
 },
 "nbformat": 4,
 "nbformat_minor": 5
}

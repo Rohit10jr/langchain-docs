{
 "cells": [
  {
   "cell_type": "markdown",
   "id": "a2200b80",
   "metadata": {},
   "source": [
    "*RunnableConfig*\n",
    "\n",
    "You can use the RunnableConfig object to pass custom run time values to tools.\n",
    "\n",
    "The config will not be part of the tool's schema and will be injected at runtime with appropriate values."
   ]
  }
 ],
 "metadata": {
  "language_info": {
   "name": "python"
  }
 },
 "nbformat": 4,
 "nbformat_minor": 5
}

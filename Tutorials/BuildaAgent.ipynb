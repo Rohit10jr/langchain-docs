{
 "cells": [
  {
   "cell_type": "markdown",
   "id": "03ba7f3f",
   "metadata": {},
   "source": [
    "*Build a Agent*\n",
    "\n",
    "Agents are systems that use LLMs as reasoning engines to determine which actions to take and the inputs necessary to perform the action. After executing actions, the results can be fed back into the LLM to determine whether more actions are needed, or whether it is okay to finish. This is often achieved via tool-calling."
   ]
  },
  {
   "cell_type": "code",
   "execution_count": 1,
   "id": "ba603225",
   "metadata": {},
   "outputs": [],
   "source": [
    "# Import relevant functionality\n",
    "from langchain_google_genai import ChatGoogleGenerativeAI\n",
    "from langchain_community.tools.tavily_search import TavilySearchResults\n",
    "from langchain_core.messages import HumanMessage\n",
    "from langgraph.checkpoint.memory import MemorySaver\n",
    "from langgraph.prebuilt import create_react_agent\n",
    "\n",
    "# Create the agent\n",
    "memory = MemorySaver()\n",
    "model = ChatGoogleGenerativeAI(model=\"gemini-2.0-flash\")\n",
    "search = TavilySearchResults(max_results=2)\n",
    "tools = [search]\n",
    "agent_executor = create_react_agent(model, tools, checkpointer=memory)"
   ]
  },
  {
   "cell_type": "code",
   "execution_count": 5,
   "id": "1396deb6",
   "metadata": {},
   "outputs": [
    {
     "name": "stdout",
     "output_type": "stream",
     "text": [
      "================================\u001b[1m Human Message \u001b[0m=================================\n",
      "\n",
      "hi im Rohit! and i live in sf\n",
      "==================================\u001b[1m Ai Message \u001b[0m==================================\n",
      "\n",
      "Hi Rohit! Nice to meet you. Is there anything I can help you with today?\n"
     ]
    }
   ],
   "source": [
    "# Use the agent\n",
    "config = {\"configurable\": {\"thread_id\": \"abc1234\"}}\n",
    "for step in agent_executor.stream(\n",
    "    {\"messages\": [HumanMessage(content=\"hi im Rohit! and i live in sf\")]},\n",
    "    config,\n",
    "    stream_mode=\"values\",\n",
    "):\n",
    "    step[\"messages\"][-1].pretty_print()"
   ]
  },
  {
   "cell_type": "code",
   "execution_count": 6,
   "id": "5ffac6a7",
   "metadata": {},
   "outputs": [
    {
     "name": "stdout",
     "output_type": "stream",
     "text": [
      "================================\u001b[1m Human Message \u001b[0m=================================\n",
      "\n",
      "whats the weather where I live?\n",
      "==================================\u001b[1m Ai Message \u001b[0m==================================\n",
      "Tool Calls:\n",
      "  tavily_search_results_json (662ecd68-6674-44ea-951d-49c3a8a19397)\n",
      " Call ID: 662ecd68-6674-44ea-951d-49c3a8a19397\n",
      "  Args:\n",
      "    query: weather in San Francisco\n",
      "=================================\u001b[1m Tool Message \u001b[0m=================================\n",
      "Name: tavily_search_results_json\n",
      "\n",
      "[{\"title\": \"Monday, April 14, 2025. San Francisco, CA - Weather Forecast\", \"url\": \"https://weathershogun.com/weather/usa/ca/san-francisco/480/april/2025-04-14\", \"content\": \"San Francisco, California Weather: Monday, April 14, 2025. Cloudy weather, overcast skies with clouds. Day 66°. Night 54°. Precipitation 0 %.\", \"score\": 0.9657998}, {\"title\": \"Weather in San Francisco in April 2025 (California)\", \"url\": \"https://world-weather.info/forecast/usa/san_francisco/april-2025/\", \"content\": \"Weather in San Francisco in April 2025\\n\\nSan Francisco Weather Forecast for April 2025 is based on long term prognosis and previous years' statistical data.\\n\\nApril\\n\\n+50°\\n\\n+46°\\n\\n+46°\\n\\n+46°\\n\\n+50°\\n\\n+50°\\n\\n+54°\\n\\n+54°\\n\\n+52°\\n\\n+52°\\n\\n+55°\\n\\n+50°\\n\\n+48°\\n\\n+50°\\n\\n+52°\\n\\n+52°\\n\\n+52°\\n\\n+52°\\n\\n+50°\\n\\n+52°\\n\\n+50°\\n\\n+48°\\n\\n+48°\\n\\n+50°\\n\\n+54°\\n\\n+52°\\n\\n+52°\\n\\n+54°\\n\\n+54°\\n\\n+54°\\n\\nExtended weather forecast in San Francisco\\n\\nWeather in large and nearby cities\\n\\nWeather in Washington, D.C.+54°\\n\\nSacramento+55°\\n\\nPleasanton+50°\", \"score\": 0.9442644}]\n",
      "==================================\u001b[1m Ai Message \u001b[0m==================================\n",
      "\n",
      "The weather in San Francisco is cloudy with overcast skies. The high is 66°F during the day and the low is 54°F at night. There is 0% chance of precipitation.\n"
     ]
    }
   ],
   "source": [
    "for step in agent_executor.stream(\n",
    "    {\"messages\": [HumanMessage(content=\"whats the weather where I live?\")]},\n",
    "    config,\n",
    "    stream_mode=\"values\",\n",
    "):\n",
    "    step[\"messages\"][-1].pretty_print()"
   ]
  },
  {
   "cell_type": "code",
   "execution_count": 9,
   "id": "0c841bc7",
   "metadata": {},
   "outputs": [],
   "source": [
    "import getpass\n",
    "import os\n",
    "\n",
    "os.environ[\"LANGSMITH_TRACING\"] = \"true\"\n",
    "os.environ[\"LANGSMITH_API_KEY\"] = getpass.getpass()\n",
    "# os.environ[\"TAVILY_API_KEY\"] = getpass.getpass()"
   ]
  },
  {
   "cell_type": "code",
   "execution_count": 10,
   "id": "2fa30a3c",
   "metadata": {},
   "outputs": [],
   "source": [
    "import getpass\n",
    "import os\n",
    "\n",
    "os.environ[\"TAVILY_API_KEY\"] = getpass.getpass()"
   ]
  },
  {
   "cell_type": "markdown",
   "id": "a145938f",
   "metadata": {},
   "source": [
    "*Define tools*\n",
    "\n",
    "We first need to create the tools we want to use. Our main tool of choice will be Tavily - a search engine. We have a built-in tool in LangChain to easily use Tavily search engine as tool."
   ]
  },
  {
   "cell_type": "code",
   "execution_count": 11,
   "id": "415a8b96",
   "metadata": {},
   "outputs": [
    {
     "name": "stdout",
     "output_type": "stream",
     "text": [
      "[{'title': 'Weather in San Francisco', 'url': 'https://www.weatherapi.com/', 'content': \"{'location': {'name': 'San Francisco', 'region': 'California', 'country': 'United States of America', 'lat': 37.775, 'lon': -122.4183, 'tz_id': 'America/Los_Angeles', 'localtime_epoch': 1744634292, 'localtime': '2025-04-14 05:38'}, 'current': {'last_updated_epoch': 1744633800, 'last_updated': '2025-04-14 05:30', 'temp_c': 11.1, 'temp_f': 52.0, 'is_day': 0, 'condition': {'text': 'Partly cloudy', 'icon': '//cdn.weatherapi.com/weather/64x64/night/116.png', 'code': 1003}, 'wind_mph': 2.2, 'wind_kph': 3.6, 'wind_degree': 151, 'wind_dir': 'SSE', 'pressure_mb': 1013.0, 'pressure_in': 29.91, 'precip_mm': 0.0, 'precip_in': 0.0, 'humidity': 89, 'cloud': 25, 'feelslike_c': 11.5, 'feelslike_f': 52.6, 'windchill_c': 9.3, 'windchill_f': 48.8, 'heatindex_c': 9.3, 'heatindex_f': 48.7, 'dewpoint_c': 9.0, 'dewpoint_f': 48.1, 'vis_km': 16.0, 'vis_miles': 9.0, 'uv': 0.0, 'gust_mph': 3.5, 'gust_kph': 5.6}}\", 'score': 0.9722971}, {'title': 'Monday, April 14, 2025. San Francisco, CA - Weather Forecast', 'url': 'https://weathershogun.com/weather/usa/ca/san-francisco/480/april/2025-04-14', 'content': 'San Francisco, California Weather: Monday, April 14, 2025. Cloudy weather, overcast skies with clouds. Day 66°. Night 54°. Precipitation 0 %.', 'score': 0.94584644}]\n"
     ]
    }
   ],
   "source": [
    "from langchain_community.tools.tavily_search import TavilySearchResults\n",
    "\n",
    "search = TavilySearchResults(max_results=2)\n",
    "search_results = search.invoke(\"what is the weather in SF\")\n",
    "print(search_results)\n",
    "# If we want, we can create other tools.\n",
    "# Once we have all the tools we want, we can put them in a list that we will reference later.\n",
    "tools = [search]"
   ]
  },
  {
   "cell_type": "markdown",
   "id": "355b0a36",
   "metadata": {},
   "source": [
    "*Using Language Models*\n",
    "\n",
    "Next, let's learn how to use a language model to call tools. LangChain supports many different language models that you can use interchangably - select the one you want to use below!"
   ]
  },
  {
   "cell_type": "code",
   "execution_count": 12,
   "id": "500e9384",
   "metadata": {},
   "outputs": [],
   "source": [
    "import getpass\n",
    "import os\n",
    "\n",
    "if not os.environ.get(\"GOOGLE_API_KEY\"):\n",
    "  os.environ[\"GOOGLE_API_KEY\"] = getpass.getpass(\"Enter API key for OpenAI: \")\n",
    "\n",
    "from langchain.chat_models import init_chat_model\n",
    "\n",
    "model = init_chat_model(\"gemini-1.5-pro-latest\", model_provider=\"google_genai\")"
   ]
  },
  {
   "cell_type": "markdown",
   "id": "fdfcfeb4",
   "metadata": {},
   "source": [
    "You can call the language model by passing in a list of messages. By default, the response is a content string."
   ]
  },
  {
   "cell_type": "code",
   "execution_count": 13,
   "id": "52d8e1c1",
   "metadata": {},
   "outputs": [
    {
     "data": {
      "text/plain": [
       "'Hi! How can I help you today?'"
      ]
     },
     "execution_count": 13,
     "metadata": {},
     "output_type": "execute_result"
    }
   ],
   "source": [
    "from langchain_core.messages import HumanMessage\n",
    "\n",
    "response = model.invoke([HumanMessage(content=\"hi!\")])\n",
    "response.content"
   ]
  },
  {
   "cell_type": "markdown",
   "id": "e0b8c6d2",
   "metadata": {},
   "source": [
    "We can now see what it is like to enable this model to do tool calling. In order to enable that we use .bind_tools to give the language model knowledge of these tools"
   ]
  },
  {
   "cell_type": "code",
   "execution_count": 14,
   "id": "c6f933b6",
   "metadata": {},
   "outputs": [],
   "source": [
    "model_with_tools = model.bind_tools(tools)"
   ]
  },
  {
   "cell_type": "code",
   "execution_count": 15,
   "id": "02531490",
   "metadata": {},
   "outputs": [
    {
     "name": "stdout",
     "output_type": "stream",
     "text": [
      "ContentString: Hello! How can I help you today?\n",
      "ToolCalls: []\n"
     ]
    }
   ],
   "source": [
    "response = model_with_tools.invoke([HumanMessage(content=\"Hi!\")])\n",
    "\n",
    "print(f\"ContentString: {response.content}\")\n",
    "print(f\"ToolCalls: {response.tool_calls}\")"
   ]
  },
  {
   "cell_type": "code",
   "execution_count": 16,
   "id": "ee411834",
   "metadata": {},
   "outputs": [
    {
     "name": "stdout",
     "output_type": "stream",
     "text": [
      "ContentString: \n",
      "ToolCalls: [{'name': 'tavily_search_results_json', 'args': {'query': 'weather in san francisco'}, 'id': 'c7d423e9-9beb-4b69-b9e3-53be8f53b84d', 'type': 'tool_call'}]\n"
     ]
    }
   ],
   "source": [
    "response = model_with_tools.invoke([HumanMessage(content=\"What's the weather in SF?\")])\n",
    "\n",
    "print(f\"ContentString: {response.content}\")\n",
    "print(f\"ToolCalls: {response.tool_calls}\")"
   ]
  },
  {
   "cell_type": "markdown",
   "id": "3d2eeb71",
   "metadata": {},
   "source": [
    "*Create the agent*\n",
    "\n",
    "Now that we have defined the tools and the LLM, We will be using LangGraph to construct the agent. Currently, we are using a high level interface to construct the agent, but the nice thing about LangGraph is that this high-level interface is backed by a low-level, highly controllable API in case you want to modify the agent logic."
   ]
  },
  {
   "cell_type": "code",
   "execution_count": 17,
   "id": "4db0ac1d",
   "metadata": {},
   "outputs": [],
   "source": [
    "from langgraph.prebuilt import create_react_agent\n",
    "\n",
    "agent_executor = create_react_agent(model, tools)"
   ]
  },
  {
   "cell_type": "markdown",
   "id": "6fac2f63",
   "metadata": {},
   "source": [
    "*Run the agent*"
   ]
  },
  {
   "cell_type": "markdown",
   "id": "0bfbe72a",
   "metadata": {},
   "source": [
    "let's see how it responds when there's no need to call a tool:"
   ]
  },
  {
   "cell_type": "code",
   "execution_count": 18,
   "id": "d7770d48",
   "metadata": {},
   "outputs": [
    {
     "data": {
      "text/plain": [
       "[HumanMessage(content='hi!', additional_kwargs={}, response_metadata={}, id='006c19dd-5f0a-47c2-936a-a3699d95c43c'),\n",
       " AIMessage(content='Hello! How can I help you today?', additional_kwargs={}, response_metadata={'prompt_feedback': {'block_reason': 0, 'safety_ratings': []}, 'finish_reason': 'STOP', 'model_name': 'gemini-1.5-pro-002', 'safety_ratings': []}, id='run-9f6147f1-9dfb-4816-a6d6-8f1f69930a95-0', usage_metadata={'input_tokens': 49, 'output_tokens': 10, 'total_tokens': 59, 'input_token_details': {'cache_read': 0}})]"
      ]
     },
     "execution_count": 18,
     "metadata": {},
     "output_type": "execute_result"
    }
   ],
   "source": [
    "response = agent_executor.invoke({\"messages\": [HumanMessage(content=\"hi!\")]})\n",
    "\n",
    "response[\"messages\"]"
   ]
  },
  {
   "cell_type": "markdown",
   "id": "a12ac82a",
   "metadata": {},
   "source": [
    "Let's now try it out on an example where it should be invoking the tool"
   ]
  },
  {
   "cell_type": "code",
   "execution_count": 19,
   "id": "d22b83c1",
   "metadata": {},
   "outputs": [
    {
     "data": {
      "text/plain": [
       "[HumanMessage(content='whats the weather in sf?', additional_kwargs={}, response_metadata={}, id='792d63ce-5f95-46e3-a864-75ac329d7095'),\n",
       " AIMessage(content='', additional_kwargs={'function_call': {'name': 'tavily_search_results_json', 'arguments': '{\"query\": \"weather in san francisco\"}'}}, response_metadata={'prompt_feedback': {'block_reason': 0, 'safety_ratings': []}, 'finish_reason': 'STOP', 'model_name': 'gemini-1.5-pro-002', 'safety_ratings': []}, id='run-82cd4ef8-4e5d-4800-bfa5-f40f3cfa939a-0', tool_calls=[{'name': 'tavily_search_results_json', 'args': {'query': 'weather in san francisco'}, 'id': '99f12064-2cbe-4832-97c3-13e975a9f8f3', 'type': 'tool_call'}], usage_metadata={'input_tokens': 53, 'output_tokens': 13, 'total_tokens': 66, 'input_token_details': {'cache_read': 0}}),\n",
       " ToolMessage(content='[{\"title\": \"Monday, April 14, 2025. San Francisco, CA - Weather Forecast\", \"url\": \"https://weathershogun.com/weather/usa/ca/san-francisco/480/april/2025-04-14\", \"content\": \"San Francisco, California Weather: Monday, April 14, 2025. Cloudy weather, overcast skies with clouds. Day 66°. Night 54°. Precipitation 0 %.\", \"score\": 0.9623101}, {\"title\": \"Weather in San Francisco in April 2025 (California)\", \"url\": \"https://world-weather.info/forecast/usa/san_francisco/april-2025/\", \"content\": \"Weather in San Francisco in April 2025\\\\n\\\\nSan Francisco Weather Forecast for April 2025 is based on long term prognosis and previous years\\' statistical data.\\\\n\\\\nApril\\\\n\\\\n+50°\\\\n\\\\n+46°\\\\n\\\\n+46°\\\\n\\\\n+46°\\\\n\\\\n+50°\\\\n\\\\n+50°\\\\n\\\\n+54°\\\\n\\\\n+54°\\\\n\\\\n+52°\\\\n\\\\n+52°\\\\n\\\\n+55°\\\\n\\\\n+50°\\\\n\\\\n+48°\\\\n\\\\n+50°\\\\n\\\\n+52°\\\\n\\\\n+52°\\\\n\\\\n+52°\\\\n\\\\n+52°\\\\n\\\\n+50°\\\\n\\\\n+52°\\\\n\\\\n+50°\\\\n\\\\n+48°\\\\n\\\\n+48°\\\\n\\\\n+50°\\\\n\\\\n+54°\\\\n\\\\n+52°\\\\n\\\\n+52°\\\\n\\\\n+54°\\\\n\\\\n+54°\\\\n\\\\n+54°\\\\n\\\\nExtended weather forecast in San Francisco\\\\n\\\\nWeather in large and nearby cities\\\\n\\\\nWeather in Washington, D.C.+54°\\\\n\\\\nSacramento+55°\\\\n\\\\nPleasanton+50°\", \"score\": 0.9405774}]', name='tavily_search_results_json', id='7bc9e231-ad93-4eef-8a84-82ad8fd3f3eb', tool_call_id='99f12064-2cbe-4832-97c3-13e975a9f8f3', artifact={'query': 'weather in san francisco', 'follow_up_questions': None, 'answer': None, 'images': [], 'results': [{'url': 'https://weathershogun.com/weather/usa/ca/san-francisco/480/april/2025-04-14', 'title': 'Monday, April 14, 2025. San Francisco, CA - Weather Forecast', 'content': 'San Francisco, California Weather: Monday, April 14, 2025. Cloudy weather, overcast skies with clouds. Day 66°. Night 54°. Precipitation 0 %.', 'score': 0.9623101, 'raw_content': None}, {'url': 'https://world-weather.info/forecast/usa/san_francisco/april-2025/', 'title': 'Weather in San Francisco in April 2025 (California)', 'content': \"Weather in San Francisco in April 2025\\n\\nSan Francisco Weather Forecast for April 2025 is based on long term prognosis and previous years' statistical data.\\n\\nApril\\n\\n+50°\\n\\n+46°\\n\\n+46°\\n\\n+46°\\n\\n+50°\\n\\n+50°\\n\\n+54°\\n\\n+54°\\n\\n+52°\\n\\n+52°\\n\\n+55°\\n\\n+50°\\n\\n+48°\\n\\n+50°\\n\\n+52°\\n\\n+52°\\n\\n+52°\\n\\n+52°\\n\\n+50°\\n\\n+52°\\n\\n+50°\\n\\n+48°\\n\\n+48°\\n\\n+50°\\n\\n+54°\\n\\n+52°\\n\\n+52°\\n\\n+54°\\n\\n+54°\\n\\n+54°\\n\\nExtended weather forecast in San Francisco\\n\\nWeather in large and nearby cities\\n\\nWeather in Washington, D.C.+54°\\n\\nSacramento+55°\\n\\nPleasanton+50°\", 'score': 0.9405774, 'raw_content': None}], 'response_time': 3.65}),\n",
       " AIMessage(content='The weather in San Francisco is currently cloudy and overcast. The temperature is 66°F during the day and 54°F at night. There is a 0% chance of precipitation.', additional_kwargs={}, response_metadata={'prompt_feedback': {'block_reason': 0, 'safety_ratings': []}, 'finish_reason': 'STOP', 'model_name': 'gemini-1.5-pro-002', 'safety_ratings': []}, id='run-f2df87c0-4e47-445f-b632-92e6c5c2178f-0', usage_metadata={'input_tokens': 445, 'output_tokens': 42, 'total_tokens': 487, 'input_token_details': {'cache_read': 0}})]"
      ]
     },
     "execution_count": 19,
     "metadata": {},
     "output_type": "execute_result"
    }
   ],
   "source": [
    "response = agent_executor.invoke(\n",
    "    {\"messages\": [HumanMessage(content=\"whats the weather in sf?\")]}\n",
    ")\n",
    "response[\"messages\"]"
   ]
  },
  {
   "cell_type": "markdown",
   "id": "43adca6c",
   "metadata": {},
   "source": [
    "*Streaming Messages*\n",
    "\n",
    "We've seen how the agent can be called with .invoke to get a final response. If the agent executes multiple steps, this may take a while. To show intermediate progress, we can stream back messages as they occur."
   ]
  },
  {
   "cell_type": "code",
   "execution_count": 20,
   "id": "bb0c9ec7",
   "metadata": {},
   "outputs": [
    {
     "name": "stdout",
     "output_type": "stream",
     "text": [
      "================================\u001b[1m Human Message \u001b[0m=================================\n",
      "\n",
      "whats the weather in sf?\n",
      "==================================\u001b[1m Ai Message \u001b[0m==================================\n",
      "Tool Calls:\n",
      "  tavily_search_results_json (ff59fa3c-9565-4f6a-a412-31729b7ff54d)\n",
      " Call ID: ff59fa3c-9565-4f6a-a412-31729b7ff54d\n",
      "  Args:\n",
      "    query: weather in san francisco\n",
      "=================================\u001b[1m Tool Message \u001b[0m=================================\n",
      "Name: tavily_search_results_json\n",
      "\n",
      "[{\"title\": \"Monday, April 14, 2025. San Francisco, CA - Weather Forecast\", \"url\": \"https://weathershogun.com/weather/usa/ca/san-francisco/480/april/2025-04-14\", \"content\": \"San Francisco, California Weather: Monday, April 14, 2025. Cloudy weather, overcast skies with clouds. Day 66°. Night 54°. Precipitation 0 %.\", \"score\": 0.9623101}, {\"title\": \"Weather in San Francisco in April 2025 (California)\", \"url\": \"https://world-weather.info/forecast/usa/san_francisco/april-2025/\", \"content\": \"Weather in San Francisco in April 2025\\n\\nSan Francisco Weather Forecast for April 2025 is based on long term prognosis and previous years' statistical data.\\n\\nApril\\n\\n+50°\\n\\n+46°\\n\\n+46°\\n\\n+46°\\n\\n+50°\\n\\n+50°\\n\\n+54°\\n\\n+54°\\n\\n+52°\\n\\n+52°\\n\\n+55°\\n\\n+50°\\n\\n+48°\\n\\n+50°\\n\\n+52°\\n\\n+52°\\n\\n+52°\\n\\n+52°\\n\\n+50°\\n\\n+52°\\n\\n+50°\\n\\n+48°\\n\\n+48°\\n\\n+50°\\n\\n+54°\\n\\n+52°\\n\\n+52°\\n\\n+54°\\n\\n+54°\\n\\n+54°\\n\\nExtended weather forecast in San Francisco\\n\\nWeather in large and nearby cities\\n\\nWeather in Washington, D.C.+54°\\n\\nSacramento+55°\\n\\nPleasanton+50°\", \"score\": 0.9405774}]\n",
      "==================================\u001b[1m Ai Message \u001b[0m==================================\n",
      "\n",
      "The weather in San Francisco is currently cloudy and overcast. The temperature is 66°F during the day and 54°F at night. There is a 0% chance of precipitation.\n"
     ]
    }
   ],
   "source": [
    "for step in agent_executor.stream(\n",
    "    {\"messages\": [HumanMessage(content=\"whats the weather in sf?\")]},\n",
    "    stream_mode=\"values\",\n",
    "):\n",
    "    step[\"messages\"][-1].pretty_print()"
   ]
  },
  {
   "cell_type": "markdown",
   "id": "bac788f5",
   "metadata": {},
   "source": [
    "*Streaming tokens*\n",
    "\n",
    "In addition to streaming back messages, it is also useful to stream back tokens. We can do this by specifying stream_mode=\"messages\".\n",
    "\n",
    "::: note\n",
    "\n",
    "Below we use message.text(), which requires langchain-core>=0.3.37.\n",
    "\n",
    ":::"
   ]
  },
  {
   "cell_type": "code",
   "execution_count": 21,
   "id": "256579b3",
   "metadata": {},
   "outputs": [
    {
     "name": "stdout",
     "output_type": "stream",
     "text": [
      "The| weather in San| Francisco is currently cloudy and overcast. The temperature is 66°F during the day and| 54°F at night. There is a 0% chance of| precipitation.|"
     ]
    }
   ],
   "source": [
    "for step, metadata in agent_executor.stream(\n",
    "    {\"messages\": [HumanMessage(content=\"whats the weather in sf?\")]},\n",
    "    stream_mode=\"messages\",\n",
    "):\n",
    "    if metadata[\"langgraph_node\"] == \"agent\" and (text := step.text()):\n",
    "        print(text, end=\"|\")"
   ]
  },
  {
   "cell_type": "markdown",
   "id": "18f8e2c1",
   "metadata": {},
   "source": [
    "*Adding in memory*\n",
    "\n",
    "This agent is stateless. This means it does not remember previous interactions. To give it memory we need to pass in a checkpointer. When passing in a checkpointer, we also have to pass in a thread_id when invoking the agent (so it knows which thread/conversation to resume from)."
   ]
  },
  {
   "cell_type": "code",
   "execution_count": 22,
   "id": "fada6207",
   "metadata": {},
   "outputs": [],
   "source": [
    "from langgraph.checkpoint.memory import MemorySaver\n",
    "\n",
    "memory = MemorySaver()"
   ]
  },
  {
   "cell_type": "code",
   "execution_count": null,
   "id": "c03d2c1b",
   "metadata": {},
   "outputs": [],
   "source": [
    "agent_executor = create_react_agent(model, tools, checkpointer=memory)\n",
    "\n",
    "config = {\"configurable\": {\"thread_id\": \"abc12345\"}}"
   ]
  },
  {
   "cell_type": "code",
   "execution_count": 24,
   "id": "d2823f9f",
   "metadata": {},
   "outputs": [
    {
     "name": "stdout",
     "output_type": "stream",
     "text": [
      "{'agent': {'messages': [AIMessage(content='Hi Bharat! How can I help you today?', additional_kwargs={}, response_metadata={'prompt_feedback': {'block_reason': 0, 'safety_ratings': []}, 'finish_reason': 'STOP', 'model_name': 'gemini-1.5-pro-002', 'safety_ratings': []}, id='run-e276bf50-bb03-4519-ba11-a08e1436a001-0', usage_metadata={'input_tokens': 51, 'output_tokens': 11, 'total_tokens': 62, 'input_token_details': {'cache_read': 0}})]}}\n",
      "----\n"
     ]
    }
   ],
   "source": [
    "for chunk in agent_executor.stream(\n",
    "    {\"messages\": [HumanMessage(content=\"hi im Bharat!\")]}, config\n",
    "):\n",
    "    print(chunk)\n",
    "    print(\"----\")"
   ]
  },
  {
   "cell_type": "code",
   "execution_count": 25,
   "id": "926df379",
   "metadata": {},
   "outputs": [
    {
     "name": "stdout",
     "output_type": "stream",
     "text": [
      "{'agent': {'messages': [AIMessage(content='You said your name is Bharat.', additional_kwargs={}, response_metadata={'prompt_feedback': {'block_reason': 0, 'safety_ratings': []}, 'finish_reason': 'STOP', 'model_name': 'gemini-1.5-pro-002', 'safety_ratings': []}, id='run-42a87826-58b8-4b56-b12f-467ae900e5f9-0', usage_metadata={'input_tokens': 65, 'output_tokens': 8, 'total_tokens': 73, 'input_token_details': {'cache_read': 0}})]}}\n",
      "----\n"
     ]
    }
   ],
   "source": [
    "for chunk in agent_executor.stream(\n",
    "    {\"messages\": [HumanMessage(content=\"whats my name?\")]}, config\n",
    "):\n",
    "    print(chunk)\n",
    "    print(\"----\")"
   ]
  },
  {
   "cell_type": "markdown",
   "id": "04c49d87",
   "metadata": {},
   "source": [
    "If you want to start a new conversation, all you have to do is change the thread_id used"
   ]
  },
  {
   "cell_type": "code",
   "execution_count": 26,
   "id": "fc322ae8",
   "metadata": {},
   "outputs": [
    {
     "name": "stdout",
     "output_type": "stream",
     "text": [
      "{'agent': {'messages': [AIMessage(content=\"I don’t have access to that information. I'm a large language model, able to communicate in response to a wide range of prompts and questions, but my knowledge about you is limited. Is there anything else I can do to help?\", additional_kwargs={}, response_metadata={'prompt_feedback': {'block_reason': 0, 'safety_ratings': []}, 'finish_reason': 'STOP', 'model_name': 'gemini-1.5-pro-002', 'safety_ratings': []}, id='run-2849dbf3-7d9b-4301-a84f-ec6405edac80-0', usage_metadata={'input_tokens': 51, 'output_tokens': 51, 'total_tokens': 102, 'input_token_details': {'cache_read': 0}})]}}\n",
      "----\n"
     ]
    }
   ],
   "source": [
    "config = {\"configurable\": {\"thread_id\": \"xyz123\"}}\n",
    "for chunk in agent_executor.stream(\n",
    "    {\"messages\": [HumanMessage(content=\"whats my name?\")]}, config\n",
    "):\n",
    "    print(chunk)\n",
    "    print(\"----\")"
   ]
  }
 ],
 "metadata": {
  "kernelspec": {
   "display_name": "venv",
   "language": "python",
   "name": "python3"
  },
  "language_info": {
   "codemirror_mode": {
    "name": "ipython",
    "version": 3
   },
   "file_extension": ".py",
   "mimetype": "text/x-python",
   "name": "python",
   "nbconvert_exporter": "python",
   "pygments_lexer": "ipython3",
   "version": "3.12.7"
  }
 },
 "nbformat": 4,
 "nbformat_minor": 5
}

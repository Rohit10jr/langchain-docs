{
 "cells": [
  {
   "cell_type": "markdown",
   "id": "f5ef2a7b",
   "metadata": {},
   "source": [
    "**Build a Question Answering application over a Graph Database**"
   ]
  },
  {
   "cell_type": "markdown",
   "id": "59724d33",
   "metadata": {},
   "source": [
    "Architecture\n",
    "At a high-level, the steps of most graph chains are:\n",
    "\n",
    "1. Convert question to a graph database query: Model converts user input to a graph database query (e.g. Cypher).\n",
    "2. Execute graph database query: Execute the graph database query.\n",
    "3. Answer the question: Model responds to user input using the query results."
   ]
  }
 ],
 "metadata": {
  "language_info": {
   "name": "python"
  }
 },
 "nbformat": 4,
 "nbformat_minor": 5
}
